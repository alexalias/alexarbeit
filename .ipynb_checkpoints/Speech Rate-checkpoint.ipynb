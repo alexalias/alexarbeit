{
 "cells": [
  {
   "cell_type": "markdown",
   "metadata": {},
   "source": [
    "### Speech Rate\n",
    "\n",
    "There are many ways to calculate speech rate. Here I am examining speech rate as a continuous variable characterising either words or phrases. Do not mistake phrases for speech turns!\n",
    "\n",
    "<ol>\n",
    "    <li>\n",
    "    <b>Phrases</b>\n",
    "    <br>In spontaneous speech, tempo might change tremendously inside a speech turn. However, it usualy varies little inside phrases (e.g. noun phrases, verb phrases). For this reason I split turns into phrases.\n",
    "    <br>I've broken down the ways of looking at speech rate into positive and negative ones:\n",
    "    <ul>\n",
    "        <li style=\"margin-bottom: 10px;\">\n",
    "        <i>Positive</i>: speech rate/tempo as number of elements in segment / segment duration. \n",
    "        <br> Naming reason: when comparing element duration against speech rate, I get negative correlations\n",
    "        </li>\n",
    "        <li>\n",
    "        <i>Negative</i>: speech rate/tempo as segment duration/number of elements in segment. \n",
    "        <br>Naming reason: when comparing element duration against speech rate, I get positive correlations\n",
    "        </li>\n",
    "    </ul>\n",
    "    </li>\n",
    "    <p></p>\n",
    "<li><b>Words</b> breaking speech turns down to words is another way of avoiding too much rate variation inside the analised segment. </li>\n",
    "</ol>\n",
    "\n",
    "Elements: <br>\n",
    "In the case of phrases I took both syllable count and phoneme count, in the case of words, only phoneme count, as most of them are usually < 4 syllable long in my database.\n",
    "\n",
    "I start with importing the needed modules:"
   ]
  },
  {
   "cell_type": "code",
   "execution_count": 1,
   "metadata": {
    "collapsed": false
   },
   "outputs": [],
   "source": [
    "# Here I import all python modules needed\n",
    "import new_SR\n",
    "import model_utilities\n",
    "import re\n",
    "import numpy as np\n",
    "import matplotlib\n",
    "import matplotlib.pyplot as plt\n",
    "from scipy.stats.stats import pearsonr\n",
    "from collections import defaultdict"
   ]
  },
  {
   "cell_type": "markdown",
   "metadata": {},
   "source": [
    "Here I define my static data:"
   ]
  },
  {
   "cell_type": "code",
   "execution_count": 2,
   "metadata": {
    "collapsed": false
   },
   "outputs": [],
   "source": [
    "# Here you may point to the dataset you wish to analyse. Just replace the string with your absolute path\n",
    "dp1 = model_utilities.get_path_list(\"C:/Users/alexutza_a/Abschlussarbeit/DB_Verbmobil/Evaluation/Rest\")\n",
    "dp2 = model_utilities.get_path_list(\"C:/Users/alexutza_a/Abschlussarbeit/DB_Verbmobil/Evaluation/mod_dataset\")\n",
    "dataset_path = dp2 + dp1\n",
    "\n",
    "\n",
    "# Path for saving pictures\n",
    "fig_path = \"C:/Users/alexutza_a/Abschlussarbeit/Grafiken/speech_rate/\"\n",
    "corr_file = \"C:/Users/alexutza_a/Abschlussarbeit/Grafiken/speech_rate/SR_corr.txt\"\n",
    "\n",
    "# List of evaluated phonemes. \n",
    "# As there are also other phonetic items segmented in our database, we use this list to sort those out.\n",
    "# Example of excluded phonetic items: <p:>, <usb>\n",
    "valid_phonemes = [\"a\", \"a~\", \"e\", \"E\", \"I\", \"i\", \"O\", \"o\", \"U\", \"u\", \"Y\", \"y\", \"9\", \"2\", \"a:\", \"a~:\", \"e:\", \"E:\", \"i:\",\n",
    "                 \"o:\", \"u:\", \"y:\", \"2:\", \"OY\", \"aU\", \"aI\", \"@\", \"6\", \"z\", \"S\", \"Z\", \"C\", \"x\", \"N\", \"Q\", \"b\", \"d\", \"f\", \n",
    "                 \"g\", \"h\", \"j\", \"k\", \"l\", \"m\", \"n\", \"p\", \"r\", \"s\", \"t\", \"v\"]\n",
    "\n",
    "# A dictionary of classes of phonemes to use later\n",
    "ptype_dict = {\"diphthong\" : [\"aU\", \"aI\", \"OY\"], \"long_vowels\" : [\"a:\", \"a~:\", \"e:\", \"E:\", \"i:\", \"o:\", \"u:\", \"y:\", \"2:\"],\n",
    "              \"short_vowels\" : [\"a\", \"a~\", \"e\", \"E\", \"I\", \"i\", \"O\", \"o\", \"U\", \"u\", \"Y\", \"y\", \"9\", \"2\"], \"schwa\" : [\"@\", \"6\"],\n",
    "              \"plosive\" : [\"b\", \"d\", \"p\", \"t\", \"k\", \"g\"], \"fricative\" : [\"f\", \"v\", \"s\", \"S\", \"z\", \"Z\", \"x\", \"h\", \"C\"],\n",
    "              \"nasal\" : [\"m\", \"n\", \"N\"], \"lateral\" : [\"l\"], \"approximant\" : [\"j\"], \"other\" : [ \"Q\", \"r\"]}\n",
    "\n",
    "# A list of definitions for SR used\n",
    "SR_namelist = [\"(phrase_dur/phon_count): \", \"(phrase_dur/syl_count): \", \"(phon_count/phrase_dur): \", \n",
    "           \"(syl_count/phrase_dur): \", \"(word_duration/phon_count): \", \"(phon_count/word_duration): \"]"
   ]
  },
  {
   "cell_type": "markdown",
   "metadata": {},
   "source": [
    "The following dictionary contains rather few features, as it is only meant for the above specified purpose."
   ]
  },
  {
   "cell_type": "code",
   "execution_count": 3,
   "metadata": {
    "collapsed": true
   },
   "outputs": [],
   "source": [
    "# Create a dictionary of phoneme durations and speech rates\n",
    "# @param dataset_path: a list of links to the files in selected dataset\n",
    "# Looks like: {\"short_vowels\" : [dur1, p_phon_PSR1, p_syl_PSR1, n_phon_PSR1, n_syl_PSR1, p_phon_WSR1, n_phon_WSR1], \n",
    "#               \"diphthongs\" : [...], ...} \n",
    "def SR_dict(dataset_path):\n",
    "    sr_d = defaultdict(list)\n",
    "    for datei in dataset_path:\n",
    "        work_file = open(datei)\n",
    "        for line in work_file:\n",
    "            if re.match(\"MAU\", line) and str(line.split()[4]) in valid_phonemes:\n",
    "                # Get the corresponding class of the current phoneme\n",
    "                phon_type = [ key for key, value in ptype_dict.items() if str(line.split()[4]) in value][0]\n",
    "                #print(str(datei)[-22:] + str(line.split()[3]) + str(line.split()[4]))\n",
    "                # Append phoneme duration in msec to the corresponding class in dict\n",
    "                sr_d[phon_type].append(round(int(line.split()[2]) * 0.0625, 2))\n",
    "                \n",
    "                # Get the corresponding phrase no. for current phoneme\n",
    "                phrase_dict = new_SR.s_split_dict(new_SR.get_split_list(datei))\n",
    "                #print(phrase_dict)\n",
    "                if len(phrase_dict) > 0:\n",
    "                    phrase_nr = [key for key,value in phrase_dict.items() if int(line.split()[3]) in value][0]\n",
    "                else:\n",
    "                    phrase_nr = 0\n",
    "\n",
    "                # Calculate the corresponding speech rates for current phoneme\n",
    "                p_phon_PSR, p_syl_PSR, n_phon_PSR, n_syl_PSR = new_SR.get_phrase_SR(datei, phrase_nr, phrase_dict)\n",
    "                p_phon_WSR, n_phon_WSR = new_SR.get_word_SR(datei, int(line.split()[3]))\n",
    "                \n",
    "                # Append all above speech rates to the dict              \n",
    "                sr_d[phon_type] += [p_phon_PSR, p_syl_PSR, n_phon_PSR, n_syl_PSR, p_phon_WSR, n_phon_WSR]\n",
    "        work_file.close()\n",
    "    return sr_d"
   ]
  },
  {
   "cell_type": "code",
   "execution_count": 4,
   "metadata": {
    "collapsed": false
   },
   "outputs": [
    {
     "name": "stdout",
     "output_type": "stream",
     "text": [
      "Wall time: 1h 4min 23s\n"
     ]
    }
   ],
   "source": [
    "# Calculate dictionary once, use it then many times ;)\n",
    "%time speechrate_d = SR_dict(dataset_path)"
   ]
  },
  {
   "cell_type": "code",
   "execution_count": 5,
   "metadata": {
    "collapsed": true
   },
   "outputs": [],
   "source": [
    "# Get the lists for plotting\n",
    "# @param my_dict: a dictionary, in this case the result of SR_dict(p)\n",
    "# @param phon_class: a string = the class of phonemes for which you wish to generate the value lists (e.g. \"diphthongs\")\n",
    "def list_generator(my_dict, phon_class):\n",
    "    duration_list = my_dict[phon_class][::7]\n",
    "    p_phon_PSR = my_dict[phon_class][1::7]\n",
    "    p_syl_PSR = my_dict[phon_class][2::7]\n",
    "    n_phon_PSR = my_dict[phon_class][3::7]\n",
    "    n_syl_PSR = my_dict[phon_class][4::7]\n",
    "    p_phon_WSR = my_dict[phon_class][5::7]\n",
    "    n_phon_WSR = my_dict[phon_class][6::7]\n",
    "    return duration_list, p_phon_PSR, p_syl_PSR, n_phon_PSR, n_syl_PSR, p_phon_WSR, n_phon_WSR"
   ]
  },
  {
   "cell_type": "markdown",
   "metadata": {},
   "source": [
    "#### A simple overview of speech rate"
   ]
  },
  {
   "cell_type": "code",
   "execution_count": 6,
   "metadata": {
    "collapsed": false
   },
   "outputs": [
    {
     "name": "stdout",
     "output_type": "stream",
     "text": [
      "262878\n",
      "262587\n"
     ]
    },
    {
     "data": {
      "image/png": "[encoded data removed]",
      "text/plain": [
       "<matplotlib.figure.Figure at 0x268e5834c18>"
      ]
     },
     "metadata": {},
     "output_type": "display_data"
    }
   ],
   "source": [
    "# Get all p_phon_WSR in one list together, to plot a histogram\n",
    "SR_overview = []\n",
    "for phon in speechrate_d.keys():\n",
    "    SR_overview += speechrate_d[phon][5::7]\n",
    "print(len(SR_overview))\n",
    "SR_overview = [x for x in SR_overview if x < 450]\n",
    "print(len(SR_overview))\n",
    "#SR_overview = [ np.log(x) for x in SR_overview]\n",
    "# Plot histogram of speech rate (word_duration / nr. of phonemes)\n",
    "plt.hist(SR_overview, bins = 50)\n",
    "plt.title(\"Speech rate (w_dur/phon_count)\")\n",
    "plt.show()"
   ]
  },
  {
   "cell_type": "markdown",
   "metadata": {},
   "source": [
    "SR distribution when removing only 0.1% percent of the upper values."
   ]
  },
  {
   "cell_type": "code",
   "execution_count": 16,
   "metadata": {
    "collapsed": false
   },
   "outputs": [
    {
     "name": "stdout",
     "output_type": "stream",
     "text": [
      "Mean of cleaned SR: 75.0844748598\n",
      "Median of cleaned SR: 64.94\n"
     ]
    }
   ],
   "source": [
    "print(\"Mean of cleaned SR: \" + str(np.mean(SR_overview)))\n",
    "print(\"Median of cleaned SR: \" + str(np.median(SR_overview)))"
   ]
  },
  {
   "cell_type": "markdown",
   "metadata": {},
   "source": [
    "##### Now we start plotting\n",
    "\n",
    "1. Long vowels"
   ]
  },
  {
   "cell_type": "code",
   "execution_count": 7,
   "metadata": {
    "collapsed": false
   },
   "outputs": [],
   "source": [
    "def turn_rel(dataset_path):\n",
    "    SR_list, SRi_list, p_dur_list, pi_dur_list, r_list = [], [], [], [], []\n",
    "    for datei in dataset_path:\n",
    "        work_file = open(datei)\n",
    "        td = 0\n",
    "        count_v, count_p = 0, 0\n",
    "        tpd = []\n",
    "        spd, spdi = [], []\n",
    "        for line in work_file:\n",
    "            if re.match(\"MAU\", line) and (str(line.split()[4]) in valid_phonemes):\n",
    "                td += int(line.split()[3]) \n",
    "                count_p += 1\n",
    "                if str(line.split()[4]) in ptype_dict[\"long_vowels\"]:\n",
    "                    tpd.append(int(line.split()[3]))\n",
    "                    count_v += 1\n",
    "                if str(line.split()[4]) == \"r\":\n",
    "                    r_list.append(int(line.split()[2]))\n",
    "        if count_p >0:\n",
    "            spd = [round(td / count_p, 2)]*count_v\n",
    "            SR_list += spd\n",
    "            p_dur_list += tpd\n",
    "            \n",
    "        if td > 0:\n",
    "            spdi = [round(count_p / td, 2)]*count_v\n",
    "            SRi_list += spdi\n",
    "            pi_dur_list += tpd\n",
    "        work_file.close()\n",
    "    return SR_list, SRi_list, p_dur_list, pi_dur_list, r_list"
   ]
  },
  {
   "cell_type": "code",
   "execution_count": 8,
   "metadata": {
    "collapsed": false
   },
   "outputs": [],
   "source": [
    "SR_tl, SRi_tl, pdur_tl, pi_dur_list, r_list = turn_rel(dataset_path)"
   ]
  },
  {
   "cell_type": "code",
   "execution_count": 9,
   "metadata": {
    "collapsed": false
   },
   "outputs": [],
   "source": [
    "SR_tl = [x * 0.0625 for x in SR_tl]\n",
    "SRi_tl = [x * 0.0625 for x in SRi_tl]\n",
    "pdur_tl = [x * .0625 for x in pdur_tl]\n",
    "pi_dur_list = [x * .0625 for x in pi_dur_list]\n",
    "r_list = [x * 0.0000625 for x in r_list]"
   ]
  },
  {
   "cell_type": "code",
   "execution_count": 10,
   "metadata": {
    "collapsed": false
   },
   "outputs": [
    {
     "name": "stdout",
     "output_type": "stream",
     "text": [
      "5453\n",
      "SD: 0.0271396731441\n",
      "Mean: 0.0515641275445\n",
      "0.0399375\n",
      "Q25: 0.0299375\n",
      "Q75: 0.0599375\n",
      "0.029937500000000002\n",
      "0.4599375\n"
     ]
    }
   ],
   "source": [
    "print(len(r_list))\n",
    "print(\"SD: \" + str(np.std(r_list)))\n",
    "print(\"Mean: \" + str(np.mean(r_list)))\n",
    "print(np.median(r_list))\n",
    "print(\"Q25: \" + str(np.percentile(r_list, 25)))\n",
    "print(\"Q75: \" + str(np.percentile(r_list, 75)))\n",
    "print(min(r_list))\n",
    "print(max(r_list))"
   ]
  },
  {
   "cell_type": "code",
   "execution_count": 11,
   "metadata": {
    "collapsed": false
   },
   "outputs": [
    {
     "name": "stdout",
     "output_type": "stream",
     "text": [
      "Pearson correlation coefficient (rho)\n",
      "Long vowel duration vs. SR (turn_dur / phon count) 0.727178570436\n",
      "Long vowel duration vs. SR (phon count / turn_dur) -0.270392865503\n"
     ]
    },
    {
     "data": {
      "image/png": "[encoded data removed]",
      "text/plain": [
       "<matplotlib.figure.Figure at 0x268eaddf7b8>"
      ]
     },
     "metadata": {},
     "output_type": "display_data"
    }
   ],
   "source": [
    "# First print the Pearson correlation coefficient for long_vowels and SR\n",
    "print(\"Pearson correlation coefficient (rho)\")\n",
    "print(\"Long vowel duration vs. SR (turn_dur / phon count) \" + str(pearsonr(pdur_tl, SR_tl)[0]))\n",
    "print(\"Long vowel duration vs. SR (phon count / turn_dur) \" + str(pearsonr(pi_dur_list, SRi_tl)[0]))\n",
    "m, b = np.polyfit(pdur_tl, SR_tl,1) # elem. of the regression function\n",
    "plt.scatter(pdur_tl, SR_tl, marker = \".\", color = \"k\")\n",
    "plt.plot((np.unique(pdur_tl)), (m*(np.unique(pdur_tl)) + b), \"-\", color=\"r\") # plot regression line\n",
    "plt.xlabel(\"Duration of long vowels in msec\")\n",
    "plt.ylabel(\"SR (turn_dur/phon_count) msec\")\n",
    "plt.title(\"Long vowel duration vs. speech rate (turn)\")\n",
    "    \n",
    "plt.savefig(fig_path + \"SR_turn.eps\", format='eps', dpi=1200)\n",
    "\n",
    "plt.show()"
   ]
  },
  {
   "cell_type": "code",
   "execution_count": 12,
   "metadata": {
    "collapsed": false
   },
   "outputs": [
    {
     "name": "stdout",
     "output_type": "stream",
     "text": [
      "102123\n",
      "53.9695469461\n",
      "82.5563058273\n",
      "69.94\n",
      "39.94\n",
      "99.94\n",
      "29.94\n",
      "349.94\n"
     ]
    },
    {
     "data": {
      "image/png": "[encoded data removed]",
      "text/plain": [
       "<matplotlib.figure.Figure at 0x268ea970320>"
      ]
     },
     "metadata": {},
     "output_type": "display_data"
    },
    {
     "data": {
      "image/png": "[encoded data removed]",
      "text/plain": [
       "<matplotlib.figure.Figure at 0x268eb08d240>"
      ]
     },
     "metadata": {},
     "output_type": "display_data"
    }
   ],
   "source": [
    "vl_names = [\"diphthong\", \"short_vowels\", \"long_vowels\", \"schwa\"]                  \n",
    "v_durl = []\n",
    "for n in vl_names:\n",
    "    v_durl += speechrate_d[n][::7]\n",
    "\n",
    "v_sort = sorted(v_durl)\n",
    "v_durl = v_sort[:-1004]\n",
    "print(len(v_durl))\n",
    "print(np.std(v_durl))\n",
    "print(np.mean(v_durl))\n",
    "print(np.median(v_durl))\n",
    "print(np.percentile(v_durl, 25))\n",
    "print(np.percentile(v_durl, 75))\n",
    "print(min(v_durl))\n",
    "print(max(v_durl))\n",
    "\n",
    "plt.boxplot(v_durl, showmeans=True)\n",
    "plt.show()\n",
    "plt.hist(v_durl, bins = 100)\n",
    "plt.show()"
   ]
  },
  {
   "cell_type": "code",
   "execution_count": 13,
   "metadata": {
    "collapsed": false
   },
   "outputs": [
    {
     "name": "stdout",
     "output_type": "stream",
     "text": [
      "30425\n",
      "SD: 83.9930569539\n",
      "Mean: 109.354297453\n",
      "89.94\n",
      "Q25: 59.94\n",
      "Q75: 129.94\n",
      "39.94\n",
      "2319.94\n"
     ]
    }
   ],
   "source": [
    "# Generate lists for category long_vowels\n",
    "duration_list, p_phon_PSR, p_syl_PSR, n_phon_PSR, n_syl_PSR, p_phon_WSR, n_phon_WSR = list_generator(speechrate_d, \"long_vowels\")\n",
    "SR_list = [p_phon_PSR, p_syl_PSR, n_phon_PSR, n_syl_PSR, p_phon_WSR, n_phon_WSR]\n",
    "\n",
    "print(len(duration_list))\n",
    "print(\"SD: \" + str(np.std(duration_list)))\n",
    "print(\"Mean: \" + str(np.mean(duration_list)))\n",
    "print(np.median(duration_list))\n",
    "print(\"Q25: \" + str(np.percentile(duration_list, 25)))\n",
    "print(\"Q75: \" + str(np.percentile(duration_list, 75)))\n",
    "print(min(duration_list))\n",
    "print(max(duration_list))"
   ]
  },
  {
   "cell_type": "code",
   "execution_count": 14,
   "metadata": {
    "collapsed": false
   },
   "outputs": [
    {
     "name": "stdout",
     "output_type": "stream",
     "text": [
      "Pearson correlation coefficient (rho)\n",
      "Phoneme duration vs. SR (phrase_dur/phon_count): 0.561266362391\n",
      "Phoneme duration vs. SR (phrase_dur/syl_count): 0.489500087602\n",
      "Phoneme duration vs. SR (phon_count/phrase_dur): -0.377058296098\n",
      "Phoneme duration vs. SR (syl_count/phrase_dur): -0.343874987183\n",
      "Phoneme duration vs. SR (word_duration/phon_count): 0.794901825792\n",
      "Phoneme duration vs. SR (phon_count/word_duration): -0.616539202577\n"
     ]
    },
    {
     "data": {
      "image/png": "[encoded data removed]",
      "text/plain": [
       "<matplotlib.figure.Figure at 0x268eaf3bf98>"
      ]
     },
     "metadata": {},
     "output_type": "display_data"
    },
    {
     "data": {
      "image/png": "[encoded data removed]",
      "text/plain": [
       "<matplotlib.figure.Figure at 0x268ea9af080>"
      ]
     },
     "metadata": {},
     "output_type": "display_data"
    },
    {
     "data": {
      "image/png": "[encoded data removed]",
      "text/plain": [
       "<matplotlib.figure.Figure at 0x268eaf4ac88>"
      ]
     },
     "metadata": {},
     "output_type": "display_data"
    },
    {
     "data": {
      "image/png": "[encoded data removed]",
      "text/plain": [
       "<matplotlib.figure.Figure at 0x268eaf6ae80>"
      ]
     },
     "metadata": {},
     "output_type": "display_data"
    },
    {
     "ename": "TypeError",
     "evalue": "expected x and y to have same length",
     "output_type": "error",
     "traceback": [
      "\u001b[0;31m---------------------------------------------------------------------------\u001b[0m",
      "\u001b[0;31mTypeError\u001b[0m                                 Traceback (most recent call last)",
      "\u001b[0;32m<ipython-input-14-4b0f2ed37a53>\u001b[0m in \u001b[0;36m<module>\u001b[0;34m()\u001b[0m\n\u001b[1;32m      9\u001b[0m \u001b[1;31m# Now plot the data\u001b[0m\u001b[1;33m\u001b[0m\u001b[1;33m\u001b[0m\u001b[0m\n\u001b[1;32m     10\u001b[0m \u001b[1;32mfor\u001b[0m \u001b[0mi\u001b[0m \u001b[1;32min\u001b[0m \u001b[0mrange\u001b[0m\u001b[1;33m(\u001b[0m\u001b[0mlen\u001b[0m\u001b[1;33m(\u001b[0m\u001b[0mSR_list\u001b[0m\u001b[1;33m)\u001b[0m\u001b[1;33m)\u001b[0m\u001b[1;33m:\u001b[0m\u001b[1;33m\u001b[0m\u001b[0m\n\u001b[0;32m---> 11\u001b[0;31m     \u001b[0mm\u001b[0m\u001b[1;33m,\u001b[0m \u001b[0mb\u001b[0m \u001b[1;33m=\u001b[0m \u001b[0mnp\u001b[0m\u001b[1;33m.\u001b[0m\u001b[0mpolyfit\u001b[0m\u001b[1;33m(\u001b[0m\u001b[0mduration_list\u001b[0m\u001b[1;33m,\u001b[0m \u001b[0mSR_list\u001b[0m\u001b[1;33m[\u001b[0m\u001b[0mi\u001b[0m\u001b[1;33m]\u001b[0m\u001b[1;33m,\u001b[0m\u001b[1;36m1\u001b[0m\u001b[1;33m)\u001b[0m \u001b[1;31m# elem. of the regression function\u001b[0m\u001b[1;33m\u001b[0m\u001b[0m\n\u001b[0m\u001b[1;32m     12\u001b[0m     \u001b[0mplt\u001b[0m\u001b[1;33m.\u001b[0m\u001b[0mscatter\u001b[0m\u001b[1;33m(\u001b[0m\u001b[0mduration_list\u001b[0m\u001b[1;33m,\u001b[0m \u001b[0mSR_list\u001b[0m\u001b[1;33m[\u001b[0m\u001b[0mi\u001b[0m\u001b[1;33m]\u001b[0m\u001b[1;33m,\u001b[0m \u001b[0mcolor\u001b[0m \u001b[1;33m=\u001b[0m \u001b[1;34m\"k\"\u001b[0m\u001b[1;33m)\u001b[0m\u001b[1;33m\u001b[0m\u001b[0m\n\u001b[1;32m     13\u001b[0m     \u001b[0mplt\u001b[0m\u001b[1;33m.\u001b[0m\u001b[0mplot\u001b[0m\u001b[1;33m(\u001b[0m\u001b[1;33m(\u001b[0m\u001b[0mnp\u001b[0m\u001b[1;33m.\u001b[0m\u001b[0munique\u001b[0m\u001b[1;33m(\u001b[0m\u001b[0mduration_list\u001b[0m\u001b[1;33m)\u001b[0m\u001b[1;33m)\u001b[0m\u001b[1;33m,\u001b[0m \u001b[1;33m(\u001b[0m\u001b[0mm\u001b[0m\u001b[1;33m*\u001b[0m\u001b[1;33m(\u001b[0m\u001b[0mnp\u001b[0m\u001b[1;33m.\u001b[0m\u001b[0munique\u001b[0m\u001b[1;33m(\u001b[0m\u001b[0mduration_list\u001b[0m\u001b[1;33m)\u001b[0m\u001b[1;33m)\u001b[0m \u001b[1;33m+\u001b[0m \u001b[0mb\u001b[0m\u001b[1;33m)\u001b[0m\u001b[1;33m,\u001b[0m \u001b[1;34m\"-\"\u001b[0m\u001b[1;33m,\u001b[0m \u001b[0mcolor\u001b[0m\u001b[1;33m=\u001b[0m\u001b[1;34m\"r\"\u001b[0m\u001b[1;33m)\u001b[0m \u001b[1;31m# plot regression line\u001b[0m\u001b[1;33m\u001b[0m\u001b[0m\n",
      "\u001b[0;32mC:\\Users\\alexutza_a\\Anaconda3\\lib\\site-packages\\numpy\\lib\\polynomial.py\u001b[0m in \u001b[0;36mpolyfit\u001b[0;34m(x, y, deg, rcond, full, w, cov)\u001b[0m\n\u001b[1;32m    561\u001b[0m         \u001b[1;32mraise\u001b[0m \u001b[0mTypeError\u001b[0m\u001b[1;33m(\u001b[0m\u001b[1;34m\"expected 1D or 2D array for y\"\u001b[0m\u001b[1;33m)\u001b[0m\u001b[1;33m\u001b[0m\u001b[0m\n\u001b[1;32m    562\u001b[0m     \u001b[1;32mif\u001b[0m \u001b[0mx\u001b[0m\u001b[1;33m.\u001b[0m\u001b[0mshape\u001b[0m\u001b[1;33m[\u001b[0m\u001b[1;36m0\u001b[0m\u001b[1;33m]\u001b[0m \u001b[1;33m!=\u001b[0m \u001b[0my\u001b[0m\u001b[1;33m.\u001b[0m\u001b[0mshape\u001b[0m\u001b[1;33m[\u001b[0m\u001b[1;36m0\u001b[0m\u001b[1;33m]\u001b[0m\u001b[1;33m:\u001b[0m\u001b[1;33m\u001b[0m\u001b[0m\n\u001b[0;32m--> 563\u001b[0;31m         \u001b[1;32mraise\u001b[0m \u001b[0mTypeError\u001b[0m\u001b[1;33m(\u001b[0m\u001b[1;34m\"expected x and y to have same length\"\u001b[0m\u001b[1;33m)\u001b[0m\u001b[1;33m\u001b[0m\u001b[0m\n\u001b[0m\u001b[1;32m    564\u001b[0m \u001b[1;33m\u001b[0m\u001b[0m\n\u001b[1;32m    565\u001b[0m     \u001b[1;31m# set rcond\u001b[0m\u001b[1;33m\u001b[0m\u001b[1;33m\u001b[0m\u001b[0m\n",
      "\u001b[0;31mTypeError\u001b[0m: expected x and y to have same length"
     ]
    }
   ],
   "source": [
    "# First print the Pearson correlation coefficient for long_vowels and SR\n",
    "print(\"Pearson correlation coefficient (rho)\")\n",
    "for i in range(len(SR_list)):\n",
    "    print(\"Phoneme duration vs. SR \" + SR_namelist[i] + str(pearsonr(duration_list, SR_list[i])[0]))\n",
    "max_wsr = max(p_phon_WSR)\n",
    "l_v = [x for x in duration_list if x <= 2000]  \n",
    "SR_WSR = [y for y in p_phon_WSR if y >=max_wsr]\n",
    "SR_list = [p_phon_PSR, p_syl_PSR, n_phon_PSR, n_syl_PSR, SR_WSR, n_phon_WSR]\n",
    "# Now plot the data\n",
    "for i in range(len(SR_list)):\n",
    "    m, b = np.polyfit(duration_list, SR_list[i],1) # elem. of the regression function\n",
    "    plt.scatter(duration_list, SR_list[i], color = \"k\")\n",
    "    plt.plot((np.unique(duration_list)), (m*(np.unique(duration_list)) + b), \"-\", color=\"r\") # plot regression line\n",
    "    plt.xlabel(\"Duration of long vowels in msec\")\n",
    "    plt.ylabel(\"SR \" + SR_namelist[i])\n",
    "    #plt.title(\"Long vowel duration vs. speech rate\")\n",
    "    \n",
    "    plt.savefig(fig_path + \"SR\" + str(i) + \".eps\", format='eps', dpi=1200)\n",
    "\n",
    "    plt.show()"
   ]
  },
  {
   "cell_type": "markdown",
   "metadata": {},
   "source": [
    "2 Diphthongs"
   ]
  },
  {
   "cell_type": "code",
   "execution_count": null,
   "metadata": {
    "collapsed": false
   },
   "outputs": [],
   "source": [
    "# Generate lists for category diphthongs\n",
    "duration_list, p_phon_PSR, p_syl_PSR, n_phon_PSR, n_syl_PSR, p_phon_WSR, n_phon_WSR = list_generator(speechrate_d, \"short_vowels\")\n",
    "SR_list = [p_phon_PSR, p_syl_PSR, n_phon_PSR, n_syl_PSR, p_phon_WSR, n_phon_WSR]\n",
    "print(len(duration_list))\n",
    "print(\"SD: \" + str(np.std(duration_list)))\n",
    "print(\"Mean: \" + str(np.mean(duration_list)))\n",
    "print(np.median(duration_list))\n",
    "print(\"Q25: \" + str(np.percentile(duration_list, 25)))\n",
    "print(\"Q75: \" + str(np.percentile(duration_list, 75)))\n",
    "print(min(duration_list))\n",
    "print(max(duration_list))"
   ]
  },
  {
   "cell_type": "code",
   "execution_count": null,
   "metadata": {
    "collapsed": false
   },
   "outputs": [],
   "source": [
    "# First print the Pearson correlation coefficient for diphthongs and SR\n",
    "print(\"Pearson correlation coefficient (rho)\")\n",
    "for i in range(len(SR_list)):\n",
    "    print(\"Diphthong duration vs. SR \" + SR_namelist[i] + str(pearsonr(duration_list, SR_list[i])[0]))\n",
    "\n",
    "# Now plot the data\n",
    "for i in range(len(SR_list)):\n",
    "    m, b = np.polyfit(duration_list, SR_list[i],1) # elem. of the regression function\n",
    "    plt.scatter(duration_list, SR_list[i], marker = \".\", color = \"k\")\n",
    "    plt.plot((np.unique(duration_list)), (m*(np.unique(duration_list)) + b), \"-\", color=\"r\") # plot regression line\n",
    "    plt.xlabel(\"Duration of diphthongs in msec\")\n",
    "    plt.ylabel(\"SR \" + SR_namelist[i])\n",
    "    plt.title(\"Diphthong duration vs. speech rate\")\n",
    "    \n",
    "    plt.savefig(fig_path + \"SR_diph\" + str(i) + \".eps\", format='eps', dpi=1200)\n",
    "\n",
    "    plt.show()"
   ]
  },
  {
   "cell_type": "markdown",
   "metadata": {},
   "source": [
    "3 Short vowels"
   ]
  },
  {
   "cell_type": "code",
   "execution_count": null,
   "metadata": {
    "collapsed": false
   },
   "outputs": [],
   "source": [
    "# Generate lists for category long_vowels\n",
    "duration_list, p_phon_PSR, p_syl_PSR, n_phon_PSR, n_syl_PSR, p_phon_WSR, n_phon_WSR = list_generator(speechrate_d, \"diphthong\")\n",
    "SR_list = [p_phon_PSR, p_syl_PSR, n_phon_PSR, n_syl_PSR, p_phon_WSR, n_phon_WSR]\n",
    "print(len(duration_list))\n",
    "print(\"SD: \" + str(np.std(duration_list)))\n",
    "print(\"Mean: \" + str(np.mean(duration_list)))\n",
    "print(np.median(duration_list))\n",
    "print(\"Q25: \" + str(np.percentile(duration_list, 25)))\n",
    "print(\"Q75: \" + str(np.percentile(duration_list, 75)))\n",
    "print(min(duration_list))\n",
    "print(max(duration_list))"
   ]
  },
  {
   "cell_type": "code",
   "execution_count": null,
   "metadata": {
    "collapsed": false
   },
   "outputs": [],
   "source": [
    "# First print the Pearson correlation coefficient for long_vowels and SR\n",
    "print(\"Pearson correlation coefficient (rho)\")\n",
    "for i in range(len(SR_list)):\n",
    "    print(\"Short vowel duration vs. SR \" + SR_namelist[i] + str(pearsonr(duration_list, SR_list[i])[0]))\n",
    "\n",
    "# Now plot the data\n",
    "for i in range(len(SR_list)):\n",
    "    m, b = np.polyfit(duration_list, SR_list[i],1) # elem. of the regression function\n",
    "    plt.scatter(duration_list, SR_list[i], marker = \".\", color = \"k\")\n",
    "    plt.plot((np.unique(duration_list)), (m*(np.unique(duration_list)) + b), \"-\", color=\"r\") # plot regression line\n",
    "    plt.xlabel(\"Duration of diphthongs in msec\")\n",
    "    plt.ylabel(\"SR \" + SR_namelist[i])\n",
    "    plt.title(\"Short vowel duration vs. speech rate\")\n",
    "    \n",
    "    plt.savefig(fig_path + \"SR_sv\" + str(i) + \".eps\", format='eps', dpi=1200)\n",
    "\n",
    "    plt.show()"
   ]
  },
  {
   "cell_type": "markdown",
   "metadata": {},
   "source": [
    "4 Schwa"
   ]
  },
  {
   "cell_type": "code",
   "execution_count": null,
   "metadata": {
    "collapsed": false
   },
   "outputs": [],
   "source": [
    "# Generate lists for category long_vowels\n",
    "duration_list, p_phon_PSR, p_syl_PSR, n_phon_PSR, n_syl_PSR, p_phon_WSR, n_phon_WSR = list_generator(speechrate_d, \"schwa\")\n",
    "SR_list = [p_phon_PSR, p_syl_PSR, n_phon_PSR, n_syl_PSR, p_phon_WSR, n_phon_WSR]\n",
    "\n",
    "print(len(duration_list))\n",
    "print(\"SD: \" + str(np.std(duration_list)))\n",
    "print(\"Mean: \" + str(np.mean(duration_list)))\n",
    "print(np.median(duration_list))\n",
    "print(\"Q25: \" + str(np.percentile(duration_list, 25)))\n",
    "print(\"Q75: \" + str(np.percentile(duration_list, 75)))\n",
    "print(min(duration_list))\n",
    "print(max(duration_list))"
   ]
  },
  {
   "cell_type": "code",
   "execution_count": null,
   "metadata": {
    "collapsed": false
   },
   "outputs": [],
   "source": [
    "# First print the Pearson correlation coefficient for long_vowels and SR\n",
    "print(\"Pearson correlation coefficient (rho)\")\n",
    "for i in range(len(SR_list)):\n",
    "    print(\"Schwa duration vs. SR \" + SR_namelist[i] + str(pearsonr(duration_list, SR_list[i])[0]))\n",
    "\n",
    "# Now plot the data\n",
    "for i in range(len(SR_list)):\n",
    "    m, b = np.polyfit(duration_list, SR_list[i],1) # elem. of the regression function\n",
    "    plt.scatter(duration_list, SR_list[i], marker = \".\", color = \"k\")\n",
    "    plt.plot((np.unique(duration_list)), (m*(np.unique(duration_list)) + b), \"-\", color=\"r\") # plot regression line\n",
    "    plt.xlabel(\"Duration of schwa in msec\")\n",
    "    plt.ylabel(\"SR \" + SR_namelist[i])\n",
    "    plt.title(\"Schwa duration vs. speech rate\")\n",
    "    \n",
    "    plt.savefig(fig_path + \"SR_schwa\" + str(i) + \".eps\", format='eps', dpi=1200)\n",
    "\n",
    "    plt.show()"
   ]
  },
  {
   "cell_type": "markdown",
   "metadata": {},
   "source": [
    "5 Plosives"
   ]
  },
  {
   "cell_type": "code",
   "execution_count": null,
   "metadata": {
    "collapsed": false
   },
   "outputs": [],
   "source": [
    "# Generate lists for category long_vowels\n",
    "duration_list, p_phon_PSR, p_syl_PSR, n_phon_PSR, n_syl_PSR, p_phon_WSR, n_phon_WSR = list_generator(speechrate_d, \"plosive\")\n",
    "SR_list = [p_phon_PSR, p_syl_PSR, n_phon_PSR, n_syl_PSR, p_phon_WSR, n_phon_WSR]\n",
    "print(len(duration_list))\n",
    "print(\"SD: \" + str(np.std(duration_list)))\n",
    "print(\"Mean: \" + str(np.mean(duration_list)))\n",
    "print(np.median(duration_list))\n",
    "print(\"Q25: \" + str(np.percentile(duration_list, 25)))\n",
    "print(\"Q75: \" + str(np.percentile(duration_list, 75)))\n",
    "print(min(duration_list))\n",
    "print(max(duration_list))"
   ]
  },
  {
   "cell_type": "code",
   "execution_count": null,
   "metadata": {
    "collapsed": false
   },
   "outputs": [],
   "source": [
    "# First print the Pearson correlation coefficient for long_vowels and SR\n",
    "print(\"Pearson correlation coefficient (rho)\")\n",
    "for i in range(len(SR_list)):\n",
    "    print(\"Plosive duration vs. SR \" + SR_namelist[i] + str(pearsonr(duration_list, SR_list[i])[0]))\n",
    "\n",
    "# Now plot the data\n",
    "for i in range(len(SR_list)):\n",
    "    m, b = np.polyfit(duration_list, SR_list[i],1) # elem. of the regression function\n",
    "    plt.scatter(duration_list, SR_list[i], marker = \".\", color = \"k\")\n",
    "    plt.plot((np.unique(duration_list)), (m*(np.unique(duration_list)) + b), \"-\", color=\"r\") # plot regression line\n",
    "    plt.xlabel(\"Duration of plosives in msec\")\n",
    "    plt.ylabel(\"SR \" + SR_namelist[i])\n",
    "    plt.title(\"Plosive duration vs. speech rate\")\n",
    "    \n",
    "    plt.savefig(fig_path + \"SR_pl\" + str(i) + \".eps\", format='eps', dpi=1200)\n",
    "\n",
    "    plt.show()"
   ]
  },
  {
   "cell_type": "markdown",
   "metadata": {},
   "source": [
    "6 Fricatives"
   ]
  },
  {
   "cell_type": "code",
   "execution_count": null,
   "metadata": {
    "collapsed": false
   },
   "outputs": [],
   "source": [
    "# Generate lists for category long_vowels\n",
    "duration_list, p_phon_PSR, p_syl_PSR, n_phon_PSR, n_syl_PSR, p_phon_WSR, n_phon_WSR = list_generator(speechrate_d, \"fricative\")\n",
    "SR_list = [p_phon_PSR, p_syl_PSR, n_phon_PSR, n_syl_PSR, p_phon_WSR, n_phon_WSR]\n",
    "print(len(duration_list))\n",
    "print(\"SD: \" + str(np.std(duration_list)))\n",
    "print(\"Mean: \" + str(np.mean(duration_list)))\n",
    "print(np.median(duration_list))\n",
    "print(\"Q25: \" + str(np.percentile(duration_list, 25)))\n",
    "print(\"Q75: \" + str(np.percentile(duration_list, 75)))\n",
    "print(min(duration_list))\n",
    "print(max(duration_list))"
   ]
  },
  {
   "cell_type": "code",
   "execution_count": null,
   "metadata": {
    "collapsed": false
   },
   "outputs": [],
   "source": [
    "# First print the Pearson correlation coefficient for long_vowels and SR\n",
    "print(\"Pearson correlation coefficient (rho)\")\n",
    "for i in range(len(SR_list)):\n",
    "    print(\"Fricative duration vs. SR \" + SR_namelist[i] + str(pearsonr(duration_list, SR_list[i])[0]))\n",
    "\n",
    "# Now plot the data\n",
    "for i in range(len(SR_list)):\n",
    "    m, b = np.polyfit(duration_list, SR_list[i],1) # elem. of the regression function\n",
    "    plt.scatter(duration_list, SR_list[i], marker = \".\", color = \"k\")\n",
    "    plt.plot((np.unique(duration_list)), (m*(np.unique(duration_list)) + b), \"-\", color=\"r\") # plot regression line\n",
    "    plt.xlabel(\"Duration of fricatives in msec\")\n",
    "    plt.ylabel(\"SR \" + SR_namelist[i])\n",
    "    plt.title(\"Fricative duration vs. speech rate\")\n",
    "    \n",
    "    plt.savefig(fig_path + \"SR_fr\" + str(i) + \".eps\", format='eps', dpi=1200)\n",
    "\n",
    "    plt.show()"
   ]
  },
  {
   "cell_type": "markdown",
   "metadata": {},
   "source": [
    "7 Nasals"
   ]
  },
  {
   "cell_type": "code",
   "execution_count": null,
   "metadata": {
    "collapsed": false
   },
   "outputs": [],
   "source": [
    "# Generate lists for category long_vowels\n",
    "duration_list, p_phon_PSR, p_syl_PSR, n_phon_PSR, n_syl_PSR, p_phon_WSR, n_phon_WSR = list_generator(speechrate_d, \"nasal\")\n",
    "SR_list = [p_phon_PSR, p_syl_PSR, n_phon_PSR, n_syl_PSR, p_phon_WSR, n_phon_WSR]\n",
    "print(len(duration_list))\n",
    "print(\"SD: \" + str(np.std(duration_list)))\n",
    "print(\"Mean: \" + str(np.mean(duration_list)))\n",
    "print(np.median(duration_list))\n",
    "print(\"Q25: \" + str(np.percentile(duration_list, 25)))\n",
    "print(\"Q75: \" + str(np.percentile(duration_list, 75)))\n",
    "print(min(duration_list))\n",
    "print(max(duration_list))"
   ]
  },
  {
   "cell_type": "code",
   "execution_count": null,
   "metadata": {
    "collapsed": false
   },
   "outputs": [],
   "source": [
    "# First print the Pearson correlation coefficient for long_vowels and SR\n",
    "print(\"Pearson correlation coefficient (rho)\")\n",
    "for i in range(len(SR_list)):\n",
    "    print(\"Nasal duration vs. SR \" + SR_namelist[i] + str(pearsonr(duration_list, SR_list[i])[0]))\n",
    "\n",
    "# Now plot the data\n",
    "for i in range(len(SR_list)):\n",
    "    m, b = np.polyfit(duration_list, SR_list[i],1) # elem. of the regression function\n",
    "    plt.scatter(duration_list, SR_list[i], marker = \".\", color = \"k\")\n",
    "    plt.plot((np.unique(duration_list)), (m*(np.unique(duration_list)) + b), \"-\", color=\"r\") # plot regression line\n",
    "    plt.xlabel(\"Duration of nasals in msec\")\n",
    "    plt.ylabel(\"SR \" + SR_namelist[i])\n",
    "    plt.title(\"Nasal duration vs. speech rate\")\n",
    "    \n",
    "    plt.savefig(fig_path + \"SR_n\" + str(i) + \".eps\", format='eps', dpi=1200)\n",
    "\n",
    "    plt.show()"
   ]
  },
  {
   "cell_type": "markdown",
   "metadata": {},
   "source": [
    "8 Lateral: /l/"
   ]
  },
  {
   "cell_type": "code",
   "execution_count": null,
   "metadata": {
    "collapsed": false
   },
   "outputs": [],
   "source": [
    "# Generate lists for category long_vowels\n",
    "duration_list, p_phon_PSR, p_syl_PSR, n_phon_PSR, n_syl_PSR, p_phon_WSR, n_phon_WSR = list_generator(speechrate_d, \"lateral\")\n",
    "SR_list = [p_phon_PSR, p_syl_PSR, n_phon_PSR, n_syl_PSR, p_phon_WSR, n_phon_WSR]\n",
    "print(len(duration_list))\n",
    "print(\"SD: \" + str(np.std(duration_list)))\n",
    "print(\"Mean: \" + str(np.mean(duration_list)))\n",
    "print(np.median(duration_list))\n",
    "print(\"Q25: \" + str(np.percentile(duration_list, 25)))\n",
    "print(\"Q75: \" + str(np.percentile(duration_list, 75)))\n",
    "print(min(duration_list))\n",
    "print(max(duration_list))"
   ]
  },
  {
   "cell_type": "code",
   "execution_count": null,
   "metadata": {
    "collapsed": false
   },
   "outputs": [],
   "source": [
    "# First print the Pearson correlation coefficient for long_vowels and SR\n",
    "print(\"Pearson correlation coefficient (rho)\")\n",
    "for i in range(len(SR_list)):\n",
    "    print(\"Duration of /l/ vs. SR \" + SR_namelist[i] + str(pearsonr(duration_list, SR_list[i])[0]))\n",
    "\n",
    "# Now plot the data\n",
    "for i in range(len(SR_list)):\n",
    "    m, b = np.polyfit(duration_list, SR_list[i],1) # elem. of the regression function\n",
    "    plt.scatter(duration_list, SR_list[i], marker = \".\", color = \"k\")\n",
    "    plt.plot((np.unique(duration_list)), (m*(np.unique(duration_list)) + b), \"-\", color=\"r\") # plot regression line\n",
    "    plt.xlabel(\"Duration of /l/ in msec\")\n",
    "    plt.ylabel(\"SR \" + SR_namelist[i])\n",
    "    plt.title(\"Duration of /l/ vs. speech rate\")\n",
    "    \n",
    "    plt.savefig(fig_path + \"SR_l\" + str(i) + \".eps\", format='eps', dpi=1200)\n",
    "\n",
    "    plt.show()"
   ]
  },
  {
   "cell_type": "markdown",
   "metadata": {},
   "source": [
    "9 Approximant: /j/"
   ]
  },
  {
   "cell_type": "code",
   "execution_count": null,
   "metadata": {
    "collapsed": true
   },
   "outputs": [],
   "source": [
    "# Generate lists for category long_vowels\n",
    "duration_list, p_phon_PSR, p_syl_PSR, n_phon_PSR, n_syl_PSR, p_phon_WSR, n_phon_WSR = list_generator(speechrate_d, \"approximant\")\n",
    "SR_list = [p_phon_PSR, p_syl_PSR, n_phon_PSR, n_syl_PSR, p_phon_WSR, n_phon_WSR]"
   ]
  },
  {
   "cell_type": "code",
   "execution_count": null,
   "metadata": {
    "collapsed": false
   },
   "outputs": [],
   "source": [
    "# First print the Pearson correlation coefficient for long_vowels and SR\n",
    "print(\"Pearson correlation coefficient (rho)\")\n",
    "for i in range(len(SR_list)):\n",
    "    print(\"Duration of /j/ vs. SR \" + SR_namelist[i] + str(pearsonr(duration_list, SR_list[i])[0]))\n",
    "\n",
    "# Now plot the data\n",
    "for i in range(len(SR_list)):\n",
    "    m, b = np.polyfit(duration_list, SR_list[i],1) # elem. of the regression function\n",
    "    plt.scatter(duration_list, SR_list[i], marker = \".\", color = \"k\")\n",
    "    plt.plot((np.unique(duration_list)), (m*(np.unique(duration_list)) + b), \"-\", color=\"r\") # plot regression line\n",
    "    plt.xlabel(\"Duration of /j/ in msec\")\n",
    "    plt.ylabel(\"SR \" + SR_namelist[i])\n",
    "    plt.title(\"Duration of /j/ vs. speech rate\")\n",
    "    \n",
    "    plt.savefig(fig_path + \"SR_j\" + str(i) + \".eps\", format='eps', dpi=1200)\n",
    "\n",
    "    plt.show()"
   ]
  },
  {
   "cell_type": "markdown",
   "metadata": {},
   "source": [
    "10 The extra shorts: /Q/ and /r/"
   ]
  },
  {
   "cell_type": "code",
   "execution_count": null,
   "metadata": {
    "collapsed": true
   },
   "outputs": [],
   "source": [
    "# Generate lists for category long_vowels\n",
    "duration_list, p_phon_PSR, p_syl_PSR, n_phon_PSR, n_syl_PSR, p_phon_WSR, n_phon_WSR = list_generator(speechrate_d, \"other\")\n",
    "SR_list = [p_phon_PSR, p_syl_PSR, n_phon_PSR, n_syl_PSR, p_phon_WSR, n_phon_WSR]"
   ]
  },
  {
   "cell_type": "code",
   "execution_count": null,
   "metadata": {
    "collapsed": false
   },
   "outputs": [],
   "source": [
    "# First print the Pearson correlation coefficient for long_vowels and SR\n",
    "print(\"Pearson correlation coefficient (rho)\")\n",
    "for i in range(len(SR_list)):\n",
    "    print(\"Duration of /Q/ and /r/ vs. SR \" + SR_namelist[i] + str(pearsonr(duration_list, SR_list[i])[0]))\n",
    "\n",
    "# Now plot the data\n",
    "for i in range(len(SR_list)):\n",
    "    m, b = np.polyfit(duration_list, SR_list[i],1) # elem. of the regression function\n",
    "    plt.scatter(duration_list, SR_list[i], marker = \".\", color = \"k\")\n",
    "    plt.plot((np.unique(duration_list)), (m*(np.unique(duration_list)) + b), \"-\", color=\"r\") # plot regression line\n",
    "    plt.xlabel(\"Duration of /Q/ & /r/ in msec\")\n",
    "    plt.ylabel(\"SR \" + SR_namelist[i])\n",
    "    plt.title(\"Duration of /Q/ & /r/ vs. speech rate\")\n",
    "    \n",
    "    plt.savefig(fig_path + \"SR_other\" + str(i) + \".eps\", format='eps', dpi=1200)\n",
    "\n",
    "    plt.show()"
   ]
  },
  {
   "cell_type": "code",
   "execution_count": null,
   "metadata": {
    "collapsed": false
   },
   "outputs": [],
   "source": [
    "import math\n",
    "\n",
    "SR_list = []\n",
    "for el in range(21):\n",
    "    SR_list.append(new_SR.get_word_SR('C:/Users/alexutza_a/Abschlussarbeit/DB_Verbmobil/mod_dataset/g001acn1_022_AAJ_a.par', el)[0])\n",
    "SR_list = [ (x/10)*2 for x in SR_list]\n",
    "m = max(SR_list)\n",
    "mi = min(SR_list)\n",
    "num = int(m/mi)\n",
    "\n",
    "points_per_w = [int(round((num / x)*10, 0)) for x in SR_list ]\n",
    "print(points_per_w)\n",
    "xs = []\n",
    "i = 1\n",
    "while i in range(21):\n",
    "    xs += [round((float(i)-.5) +(math.pow(-1, el)*el)/(math.pow(el, 2)), 4) for el in range(points_per_w[i]+1) if el >1 ]\n",
    "    if i >1:\n",
    "        xs.append(float(i)-.5)\n",
    "    i += 1\n",
    "xs = [ x+1 for x in xs if x >=1]\n",
    "xs += [0.1667, 0.5, 0.75, 1.0, 1.1667, 1.3, 1.3571, 1.5, 1.625, 1.6667, 1.75]\n",
    "ys = [1]*len(xs)\n",
    "print(sorted(xs))"
   ]
  },
  {
   "cell_type": "code",
   "execution_count": null,
   "metadata": {
    "collapsed": false
   },
   "outputs": [],
   "source": [
    "sli = []\n",
    "for el in points_per_w:\n",
    "    sli += [el]*el\n",
    "sli = [ x-2 for x in sli if x <10]\n",
    "sli = [ x * 25 for x in sli]\n",
    "\n",
    "words = [\"Ja,\", \"ist\", \"richtig,\", \"und\", \"wir\", \"haben\", \"Flugzeit\", \"70\" \"Min.\", \"Bis\", \"wir\", \"dann\", \"in\", \n",
    "         \"der\", \"Stadt\", \"sind,\", \"noch\", \"mal\", \"40\", \"Min\", \"dran.\"]\n",
    "st_points = [.1, 1.0, 2.0, 3.0, 4.0, 5.0, 6,7,8,9,10,11,12,13,14,15,16,17,18,19,20]\n",
    "st = [ 1, 2,3,7,9,15,]\n",
    "\n",
    "fig1 = plt.figure(figsize=(25, 7))\n",
    "plt.scatter(xs, ys, s = sli, color = \"k\")\n",
    "for i in range(len(words)):\n",
    "    plt.annotate(words[i], xy=(st_points[i], 0.995), size = 15)\n",
    "for j in range(len(st)):\n",
    "    plt.text(st[j]-.09, .999, \"I\", size = 35, color = \"darkorange\")\n",
    "plt.axis(\"off\")\n",
    "plt.savefig(fig_path + \"SR_example.eps\", format='eps', dpi=1200)\n",
    "plt.show()"
   ]
  }
 ],
 "metadata": {
  "kernelspec": {
   "display_name": "Python 3",
   "language": "python",
   "name": "python3"
  },
  "language_info": {
   "codemirror_mode": {
    "name": "ipython",
    "version": 3
   },
   "file_extension": ".py",
   "mimetype": "text/x-python",
   "name": "python",
   "nbconvert_exporter": "python",
   "pygments_lexer": "ipython3",
   "version": "3.6.0"
  }
 },
 "nbformat": 4,
 "nbformat_minor": 2
}
