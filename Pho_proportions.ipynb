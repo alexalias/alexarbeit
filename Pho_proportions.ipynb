{
 "cells": [
  {
   "cell_type": "code",
   "execution_count": 2,
   "metadata": {
    "collapsed": true
   },
   "outputs": [],
   "source": [
    "import os\n",
    "import glob\n",
    "import re\n",
    "import numpy as np\n",
    "import matplotlib\n",
    "import matplotlib.pyplot as plt\n",
    "import speech_rate\n",
    "from scipy.stats.stats import pearsonr\n",
    "from collections import defaultdict"
   ]
  },
  {
   "cell_type": "code",
   "execution_count": 99,
   "metadata": {
    "collapsed": false
   },
   "outputs": [],
   "source": [
    "# Creates a dict of phoneme proportions in words of specific lengths (as no of phonemes) - w_dur in msec.\n",
    "# Looks like: {\"a\" : {1pho_w : [w_dur1, pho_dur1, w_dur2, pho_dur2, ...], 2pho_w : [...], ...}, \n",
    "#              \"b\" : {1pho_w : [w_dur1, pho_dur1, w_dur2, pho_dur2, ...], 2pho_w: [...], ...}, \n",
    "#               ...}\n",
    "def build_simple_dict():\n",
    "    simple_phoprop_dict = defaultdict(dict) # the dict to be returned\n",
    "    simple_prop_dict = defaultdict(list)   # the value dict\n",
    "    os.chdir(\"C:/Users/alexutza_a/Abschlussarbeit/DB_Verbmobil/Evaluation/Training\")\n",
    "    \n",
    "    #Iterate over the training files\n",
    "    for datei in glob.glob(\"*.par\"):\n",
    "        work_file = open(datei)\n",
    "        for line in work_file:\n",
    "            if re.match(\"MAU\", line):\n",
    "                w_dur, phon_count, syl_count = speech_rate.word_duration(datei, int(line.split()[3]))\n",
    "                key = str(phon_count)+\"pho_w\"\n",
    "                simple_prop_dict[key].append(round(w_dur*0.0625, 2))                 # w_dur used in msec.\n",
    "                simple_prop_dict[key].append(round(int(line.split()[2])/w_dur, 3))   # calc pho prop as pho_dur/w_dur\n",
    "                if key in simple_phoprop_dict[line.split()[4]].keys():\n",
    "                    simple_phoprop_dict[line.split()[4]][key] += simple_prop_dict[key]\n",
    "                else: \n",
    "                    simple_phoprop_dict[line.split()[4]][key] = simple_prop_dict[key]\n",
    "                simple_prop_dict.clear()\n",
    "        work_file.close()\n",
    "    return simple_phoprop_dict"
   ]
  },
  {
   "cell_type": "code",
   "execution_count": 100,
   "metadata": {
    "collapsed": false
   },
   "outputs": [
    {
     "name": "stdout",
     "output_type": "stream",
     "text": [
      "{'3pho_w': [189.81, 0.579, 209.81, 0.476, 249.81, 0.48, 209.81, 0.429], '15pho_w': [859.06, 0.116], '5pho_w': [279.69, 0.322], '8pho_w': [789.5, 0.241, 509.5, 0.275, 559.5, 0.196]}\n"
     ]
    }
   ],
   "source": [
    "# Example call of the simple phoneme proportions dict\n",
    "%time print(build_simple_dict()[\"OY\"])"
   ]
  },
  {
   "cell_type": "code",
   "execution_count": 96,
   "metadata": {
    "collapsed": true
   },
   "outputs": [],
   "source": [
    "# Help function for getting name and duration of other long pho in word (vowels & nasals & /x/ & /s/)\n",
    "corr_phonemes = [\"a\", \"a~\", \"e\", \"E\", \"I\", \"i\", \"O\", \"o\", \"U\", \"u\", \"Y\", \"y\", \"9\", \"2\", \"a:\", \"a~:\", \"e:\", \"E:\", \"i:\",\n",
    "                 \"o:\", \"u:\", \"y:\", \"2:\", \"OY\", \"aU\", \"aI\", \"@\", \"6\", \"m\", \"n\", \"N\", \"x\", \"s\"]\n",
    "def get_longP(datei, word_no, zeile):\n",
    "    work_file = open(datei)\n",
    "    long_Plist = []\n",
    "    z = 0\n",
    "    for line in work_file:\n",
    "        if re.match(\"MAU\", line) and word_no == int(line.split()[3]):\n",
    "            if (line.split()[4] in corr_phonemes) and (z != zeile):\n",
    "                w_dur, phon_count, syl_count = speech_rate.word_duration(datei, int(line.split()[3]))\n",
    "                long_Plist.append(line.split()[4])\n",
    "                long_Plist.append(round(int(line.split()[2])/w_dur, 3))\n",
    "            elif z == zeile:\n",
    "                continue\n",
    "        z += 1\n",
    "    work_file.close()\n",
    "    return long_Plist"
   ]
  },
  {
   "cell_type": "code",
   "execution_count": 84,
   "metadata": {
    "collapsed": true
   },
   "outputs": [],
   "source": [
    "# Creates a dict of phoneme proportions in words of specific lengths (as no of phonemes) - w_dur in msec.\n",
    "# It considers also the presence of other correlating phonemes in word\n",
    "# Looks like: {\"a\" : {1pho_w : [w_dur1, pho_dur1, 0, [], w_dur2, pho_dur2, ...], \n",
    "#                     2pho_w : [w_dur1, pho_dur1, no._other_long_pho, [otherPho1, prop_otherPho1, ...], w_dur2, pho_dur2, [...], ...}, \n",
    "#              \"b\" : {1pho_w : [w_dur1, pho_dur1, 0, [], w_dur2, pho_dur2, ...], 2pho_w: [...], ...}, \n",
    "#               ...}\n",
    "def build_complex_dict():\n",
    "    simple_phoprop_dict = defaultdict(dict) # the dict to be returned\n",
    "    simple_prop_dict = defaultdict(list)   # the value dict\n",
    "    \n",
    "    os.chdir(\"C:/Users/alexutza_a/Abschlussarbeit/DB_Verbmobil/Evaluation/Training\")\n",
    "    \n",
    "    #Iterate over the training files\n",
    "    for datei in glob.glob(\"*.par\"):\n",
    "        work_file = open(datei)\n",
    "        zeile = 0                              # a row counter; counting starts at beginning of file\n",
    "        for line in work_file:\n",
    "            if re.match(\"MAU\", line):\n",
    "                w_dur, phon_count, syl_count = speech_rate.word_duration(datei, int(line.split()[3]))\n",
    "                key = str(phon_count)+\"pho_w\"\n",
    "                simple_prop_dict[key].append(str(datei)[-20:])\n",
    "                simple_prop_dict[key].append(int(line.split()[3]))\n",
    "                simple_prop_dict[key].append(str(line.split()[4]))\n",
    "                simple_prop_dict[key].append(round(w_dur*0.0625, 2))                 # w_dur used in msec.\n",
    "                simple_prop_dict[key].append(round(int(line.split()[2])/w_dur, 3))   # calc pho prop as pho_dur/w_dur\n",
    "                simple_prop_dict[key].append(get_longP(datei, int(line.split()[3]), zeile))\n",
    "                if key in simple_phoprop_dict[line.split()[4]].keys():\n",
    "                    simple_phoprop_dict[line.split()[4]][key] += simple_prop_dict[key]\n",
    "                else: \n",
    "                    simple_phoprop_dict[line.split()[4]][key] = simple_prop_dict[key]\n",
    "                simple_prop_dict.clear()\n",
    "            zeile += 1\n",
    "        work_file.close()\n",
    "    return simple_phoprop_dict"
   ]
  },
  {
   "cell_type": "code",
   "execution_count": 97,
   "metadata": {
    "collapsed": false
   },
   "outputs": [
    {
     "name": "stdout",
     "output_type": "stream",
     "text": [
      "{'3pho_w': ['g001acn1_027_AAJ.par', 0, 'OY', 189.81, 0.579, ['n', 0.21], 'g001acn1_029_AAJ.par', 4, 'OY', 209.81, 0.476, ['n', 0.143], 'g001acn2_026_AAK.par', 5, 'OY', 249.81, 0.48, ['n', 0.32], 'g001acn2_028_AAK.par', 0, 'OY', 209.81, 0.429, ['n', 0.381]], '15pho_w': ['g001acn1_071_AAJ.par', 23, 'OY', 859.06, 0.116, ['n', 0.046]], '5pho_w': ['g001acn2_007_AAK.par', 59, 'OY', 279.69, 0.322, ['n', 0.214]], '8pho_w': ['g016acn1_010_ABE.par', 20, 'OY', 789.5, 0.241, ['u:', 0.177, 's', 0.089], 'g016acn1_016_ABE.par', 40, 'OY', 509.5, 0.275, ['u:', 0.098, 's', 0.157], 'g016acn2_015_ABO.par', 3, 'OY', 559.5, 0.196, ['u:', 0.161, 's', 0.107]]}\n",
      "Wall time: 11.2 s\n"
     ]
    }
   ],
   "source": [
    "# Example call of the complex phoneme proportions dict\n",
    "%time print(build_complex_dict()[\"OY\"])"
   ]
  },
  {
   "cell_type": "code",
   "execution_count": 101,
   "metadata": {
    "collapsed": false
   },
   "outputs": [
    {
     "name": "stdout",
     "output_type": "stream",
     "text": [
      "Wall time: 3.61 s\n"
     ]
    }
   ],
   "source": [
    "# Build the simple phoneme proportions dictionary\n",
    "%time simple_pprop_dict = build_simple_dict()"
   ]
  },
  {
   "cell_type": "code",
   "execution_count": 102,
   "metadata": {
    "collapsed": false
   },
   "outputs": [
    {
     "name": "stdout",
     "output_type": "stream",
     "text": [
      "Wall time: 10.7 s\n"
     ]
    }
   ],
   "source": [
    "# Bild the complex phoneme proportions dictionary\n",
    "%time complex_pprop_dict = build_complex_dict()"
   ]
  },
  {
   "cell_type": "code",
   "execution_count": 107,
   "metadata": {
    "collapsed": false
   },
   "outputs": [
    {
     "name": "stdout",
     "output_type": "stream",
     "text": [
      "[69.88, 0.572, 69.88, 0.572, 69.88, 0.572, 79.88, 0.625, 79.88, 0.5, 79.88, 0.625, 79.88, 0.625]\n"
     ]
    }
   ],
   "source": [
    "from operator import itemgetter\n",
    "# sort needed dict_list from the simple dict\n",
    "simple_dict_la2p = simple_pprop_dict[\"a:\"][\"2pho_w\"]\n",
    "l_gr = [simple_dict_la2p[i:i+2] for i in range(0, len(simple_dict_la2p),2)] # transform list in list of 2-elem-lists\n",
    "l_sorted = sorted(l_gr,key=itemgetter(0)) # sort list of of 2-elem-lists\n",
    "org_simpleDict_la2p = []\n",
    "for i in range(len(l_sorted)):    # flatten sorted list\n",
    "    org_simpleDict_la2p += l_sorted[i]\n",
    "print(org_simpleDict_la2p[:14])"
   ]
  },
  {
   "cell_type": "code",
   "execution_count": 112,
   "metadata": {
    "collapsed": false
   },
   "outputs": [
    {
     "name": "stdout",
     "output_type": "stream",
     "text": [
      "0.572\n",
      "0.572\n",
      "0.572\n"
     ]
    }
   ],
   "source": [
    "# Check above cell. Test data for plot prop of phoneme /a:/ in 2pho_w against w_dur\n",
    "simple_dur_list = simple_pprop_dict[\"a:\"][\"2pho_w\"][::2]\n",
    "simple_prop_list = simple_pprop_dict[\"a:\"][\"2pho_w\"][1::2]\n",
    "for el in simple_dur_list:\n",
    "    if el == 69.88:\n",
    "        print(simple_prop_list[simple_dur_list.index(el)])"
   ]
  },
  {
   "cell_type": "code",
   "execution_count": 119,
   "metadata": {
    "collapsed": false
   },
   "outputs": [
    {
     "name": "stdout",
     "output_type": "stream",
     "text": [
      "100\n"
     ]
    }
   ],
   "source": [
    "# Test data for plot prop of phoneme /a:/ in 2pho_w against w_dur\n",
    "simple_dur_list = org_simpleDict_la2p[::2]\n",
    "simple_dur_list = [ round(x/1000, 3) for x in simple_dur_list]     #transform w_dur in sec (from msec)\n",
    "simple_prop_list = org_simpleDict_la2p[1::2]\n",
    "print(len(simple_prop_list))"
   ]
  },
  {
   "cell_type": "code",
   "execution_count": 120,
   "metadata": {
    "collapsed": false
   },
   "outputs": [
    {
     "data": {
      "image/png": "[encoded data removed]",
      "text/plain": [
       "<matplotlib.figure.Figure at 0x27a67bdbe48>"
      ]
     },
     "metadata": {},
     "output_type": "display_data"
    }
   ],
   "source": [
    "# This Graph shows that the proportion of /a:/ in 2-phoneme-words doesn't correlate with word duration\n",
    "x = range(100)\n",
    "plt.plot(x, simple_dur_list, label = \"word duration (s)\")\n",
    "plt.plot(x, simple_prop_list, label = \"proportion of /a:/\")\n",
    "plt.legend()\n",
    "plt.show()"
   ]
  },
  {
   "cell_type": "code",
   "execution_count": 152,
   "metadata": {
    "collapsed": false
   },
   "outputs": [
    {
     "name": "stdout",
     "output_type": "stream",
     "text": [
      "(0.13910368379366647, 0.1675039412470333)\n"
     ]
    },
    {
     "data": {
      "image/png": "[encoded data removed]",
      "text/plain": [
       "<matplotlib.figure.Figure at 0x27a68de8908>"
      ]
     },
     "metadata": {},
     "output_type": "display_data"
    }
   ],
   "source": [
    "# This scatter plot confirms the result of the previous plot\n",
    "print(pearsonr(simple_prop_list, simple_dur_list))\n",
    "plt.scatter(simple_prop_list, simple_dur_list, color = \"darkorange\")\n",
    "plt.show()"
   ]
  },
  {
   "cell_type": "code",
   "execution_count": 160,
   "metadata": {
    "collapsed": false
   },
   "outputs": [
    {
     "data": {
      "image/png": "[encoded data removed]",
      "text/plain": [
       "<matplotlib.figure.Figure at 0x27a68ec9c88>"
      ]
     },
     "metadata": {},
     "output_type": "display_data"
    },
    {
     "name": "stdout",
     "output_type": "stream",
     "text": [
      "Median: 0.625\n",
      "Mean: 0.61112\n",
      "Q1: 0.5195   Q3: 0.7085\n"
     ]
    }
   ],
   "source": [
    "# Would suggest it makes sense to use only the interquartile area, or even just the mean/median value\n",
    "plt.boxplot(simple_prop_list, labels = [\"a:\"], showmeans=True)\n",
    "plt.show()\n",
    "print(\"Median: \" + str(np.median(simple_prop_list)))\n",
    "print(\"Mean: \" + str(np.mean(simple_prop_list)))\n",
    "Q1 = np.percentile(simple_prop_list, 25)\n",
    "Q3 = np.percentile(simple_prop_list, 75)\n",
    "print(\"Q1: \" + str(Q1) + \"   Q3: \" + str(Q3))"
   ]
  },
  {
   "cell_type": "code",
   "execution_count": 179,
   "metadata": {
    "collapsed": false
   },
   "outputs": [
    {
     "data": {
      "image/png": "[encoded data removed]",
      "text/plain": [
       "<matplotlib.figure.Figure at 0x27a68dd5a90>"
      ]
     },
     "metadata": {},
     "output_type": "display_data"
    },
    {
     "name": "stdout",
     "output_type": "stream",
     "text": [
      "[1, 100, 49, 12, 10, 11, 19, 24, 4, 4, 1, 2]\n",
      "1pho_w:\n",
      "  Median: 1.0 Mean: 1.0 Q1: 1.0   Q3: 1.0\n",
      "2pho_w:\n",
      "  Median: 0.625 Mean: 0.611 Q1: 0.52   Q3: 0.708\n",
      "3pho_w:\n",
      "  Median: 0.44 Mean: 0.453 Q1: 0.359   Q3: 0.55\n",
      "4pho_w:\n",
      "  Median: 0.342 Mean: 0.315 Q1: 0.248   Q3: 0.374\n",
      "5pho_w:\n",
      "  Median: 0.274 Mean: 0.278 Q1: 0.223   Q3: 0.314\n",
      "6pho_w:\n",
      "  Median: 0.244 Mean: 0.3 Q1: 0.22   Q3: 0.351\n",
      "7pho_w:\n",
      "  Median: 0.221 Mean: 0.225 Q1: 0.198   Q3: 0.254\n",
      "8pho_w:\n",
      "  Median: 0.174 Mean: 0.198 Q1: 0.15   Q3: 0.243\n",
      "9pho_w:\n",
      "  Median: 0.153 Mean: 0.161 Q1: 0.096   Q3: 0.219\n",
      "10pho_w:\n",
      "  Median: 0.112 Mean: 0.115 Q1: 0.08   Q3: 0.147\n",
      "11pho_w:\n",
      "  Median: 0.132 Mean: 0.132 Q1: 0.132   Q3: 0.132\n",
      "12pho_w:\n",
      "  Median: 0.114 Mean: 0.114 Q1: 0.1   Q3: 0.129\n"
     ]
    }
   ],
   "source": [
    "# This plot confirms the intuition, that the percent occupied by /a:/ decreases with length of word (as # of phonemes)\n",
    "# Boxplot with /a:/-proportions overview on all word legths\n",
    "prop_lists = []\n",
    "\n",
    "# sort data by increasing word length\n",
    "key_list = sorted(simple_pprop_dict[\"a:\"].keys())\n",
    "first_3 = key_list[:3]\n",
    "key_list = key_list[3:] + first_3\n",
    "\n",
    "# generate list of lists for plotting\n",
    "for el in key_list:\n",
    "    prop_lists.append(simple_pprop_dict[\"a:\"][el][1::2])\n",
    "\n",
    "# create a list of count/word-length\n",
    "count_list = []\n",
    "for el in prop_lists:\n",
    "    count_list.append(len(el))\n",
    "\n",
    "# actually plot data\n",
    "plt.figure(figsize=(25, 17))\n",
    "plt.boxplot(prop_lists, labels = key_list, showmeans=True)\n",
    "plt.show()\n",
    "print(count_list)\n",
    "# print some boxplot relevant info (median, mean, Q1, Q3)\n",
    "for el in prop_lists:   \n",
    "    print(key_list[prop_lists.index(el)] + \":\")\n",
    "    Q1 = np.percentile(el, 25)\n",
    "    Q3 = np.percentile(el, 75)\n",
    "    print(\"  Median: \" + str(round(np.median(el), 3)) + \" Mean: \" + str(round(np.mean(el), 3)) + \n",
    "          \" Q1: \" + str(round(Q1, 3)) + \"   Q3: \" + str(round(Q3, 3)))\n",
    "   "
   ]
  },
  {
   "cell_type": "code",
   "execution_count": 124,
   "metadata": {
    "collapsed": false
   },
   "outputs": [
    {
     "name": "stdout",
     "output_type": "stream",
     "text": [
      "['g001acn1_004_AAJ.par', 8, 'a:', 69.88, 0.572, [], 'g001acn2_016_AAK.par', 0, 'a:', 69.88, 0.572, [], 'g016acn1_029_ABE.par', 0, 'a:', 69.88, 0.572, [], 'g001acn1_000_AAJ.par', 0, 'a:', 79.88, 0.625, [], 'g001acn1_004_AAJ.par', 3, 'a:', 79.88, 0.5, []]\n"
     ]
    }
   ],
   "source": [
    "from operator import itemgetter\n",
    "# sort needed dict_list from the complex dict\n",
    "complex_dict_la2p = complex_pprop_dict[\"a:\"][\"2pho_w\"]\n",
    "l_gr = [complex_dict_la2p[i:i+6] for i in range(0, len(complex_dict_la2p),6)] # transform list in list of 2-elem-lists\n",
    "l_sorted = sorted(l_gr,key=itemgetter(3)) # sort list of of 2-elem-lists\n",
    "org_complexDict_la2p = []\n",
    "for i in range(len(l_sorted)):    # flatten sorted list\n",
    "    org_complexDict_la2p += l_sorted[i]\n",
    "print(org_complexDict_la2p[:30])"
   ]
  },
  {
   "cell_type": "code",
   "execution_count": 136,
   "metadata": {
    "collapsed": false
   },
   "outputs": [
    {
     "name": "stdout",
     "output_type": "stream",
     "text": [
      "[89.88, 0.556, 379.88, 0.605]\n"
     ]
    }
   ],
   "source": [
    "# Split Value list of complex dict for [\"a:\"][\"2pho_w] into word lists with corr phonemes (lw) and without (no_lw)\n",
    "# The result shows here already, that this approach will not bring us much, as there are only 2 instances, where\n",
    "#     a correlating phoneme is present in word. \n",
    "no_lw, lw = [], []\n",
    "i = 0\n",
    "for el in org_complexDict_la2p[5::6]:\n",
    "    if el == []:\n",
    "        no_lw.append(org_complexDict_la2p[3::6][i])\n",
    "        no_lw.append(org_complexDict_la2p[4::6][i])\n",
    "    else:\n",
    "        lw.append(org_complexDict_la2p[3::6][i])\n",
    "        lw.append(org_complexDict_la2p[4::6][i])\n",
    "    i += 1\n",
    "print(lw)"
   ]
  },
  {
   "cell_type": "code",
   "execution_count": 129,
   "metadata": {
    "collapsed": false
   },
   "outputs": [
    {
     "name": "stdout",
     "output_type": "stream",
     "text": [
      "100\n",
      "[0.572, 0.572, 0.572, 0.625, 0.5]\n"
     ]
    }
   ],
   "source": []
  }
 ],
 "metadata": {
  "kernelspec": {
   "display_name": "Python 3",
   "language": "python",
   "name": "python3"
  },
  "language_info": {
   "codemirror_mode": {
    "name": "ipython",
    "version": 3
   },
   "file_extension": ".py",
   "mimetype": "text/x-python",
   "name": "python",
   "nbconvert_exporter": "python",
   "pygments_lexer": "ipython3",
   "version": "3.6.0"
  }
 },
 "nbformat": 4,
 "nbformat_minor": 2
}
